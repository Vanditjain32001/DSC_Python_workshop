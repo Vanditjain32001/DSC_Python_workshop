{
 "cells": [
  {
   "cell_type": "markdown",
   "metadata": {},
   "source": [
    "Write a code to find sum of digits of number preferebly in one line\n"
   ]
  },
  {
   "cell_type": "code",
   "execution_count": 1,
   "metadata": {},
   "outputs": [
    {
     "data": {
      "text/plain": [
       "21"
      ]
     },
     "execution_count": 1,
     "metadata": {},
     "output_type": "execute_result"
    }
   ],
   "source": [
    "sum([int(i) for i in list(str(123456))])"
   ]
  },
  {
   "cell_type": "code",
   "execution_count": 2,
   "metadata": {},
   "outputs": [
    {
     "data": {
      "text/plain": [
       "6"
      ]
     },
     "execution_count": 2,
     "metadata": {},
     "output_type": "execute_result"
    }
   ],
   "source": [
    "max([int(i) for i in list(str(123456))])"
   ]
  },
  {
   "cell_type": "markdown",
   "metadata": {},
   "source": [
    "# write program for the asrmstrong number."
   ]
  },
  {
   "cell_type": "code",
   "execution_count": 4,
   "metadata": {},
   "outputs": [
    {
     "data": {
      "text/plain": [
       "True"
      ]
     },
     "execution_count": 4,
     "metadata": {},
     "output_type": "execute_result"
    }
   ],
   "source": [
    "sum([(int(i))**4 for i in list(str(1634))])==1634"
   ]
  },
  {
   "cell_type": "markdown",
   "metadata": {},
   "source": [
    "# Q check if the given number is perfect square without using built in function"
   ]
  },
  {
   "cell_type": "code",
   "execution_count": 11,
   "metadata": {},
   "outputs": [
    {
     "data": {
      "text/plain": [
       "True"
      ]
     },
     "execution_count": 11,
     "metadata": {},
     "output_type": "execute_result"
    }
   ],
   "source": [
    "n=16;n**(1/2)==(n**(1/2))//1"
   ]
  },
  {
   "cell_type": "markdown",
   "metadata": {},
   "source": [
    "# Write your own implementation of map()"
   ]
  },
  {
   "cell_type": "code",
   "execution_count": 3,
   "metadata": {},
   "outputs": [
    {
     "data": {
      "text/plain": [
       "[1, 4, 9, 16]"
      ]
     },
     "execution_count": 3,
     "metadata": {},
     "output_type": "execute_result"
    }
   ],
   "source": [
    "def mapper(func,seq):\n",
    "    if len(seq) > 0:\n",
    "        lst=[]\n",
    "        i=0\n",
    "        while i<len(seq):\n",
    "            lst.append(func(seq[i]))\n",
    "            i+=1\n",
    "        return lst\n",
    "    return lst\n",
    "def square(x):\n",
    "    return x*x\n",
    "l=[1,2,3,4]\n",
    "mapper(square,l)"
   ]
  },
  {
   "cell_type": "markdown",
   "metadata": {},
   "source": [
    "# Write your own implementation of reduce()"
   ]
  },
  {
   "cell_type": "code",
   "execution_count": 4,
   "metadata": {},
   "outputs": [
    {
     "data": {
      "text/plain": [
       "10"
      ]
     },
     "execution_count": 4,
     "metadata": {},
     "output_type": "execute_result"
    }
   ],
   "source": [
    "def reducer(func, seq):\n",
    "    if len(seq) > 1:\n",
    "        summation=(func(seq))\n",
    "        return summation\n",
    "    return summation\n",
    "def addition(x):\n",
    "    s=0\n",
    "    for i in x:\n",
    "        s+=i\n",
    "    return s \n",
    "l=[1,2,3,4]\n",
    "reducer(addition,l)"
   ]
  },
  {
   "cell_type": "markdown",
   "metadata": {},
   "source": [
    "# Write your own inplementation of filter()"
   ]
  },
  {
   "cell_type": "code",
   "execution_count": 15,
   "metadata": {},
   "outputs": [
    {
     "name": "stdout",
     "output_type": "stream",
     "text": [
      "18\n",
      "19\n",
      "20\n"
     ]
    }
   ],
   "source": [
    "def filtered(func,seq):\n",
    "    if len(seq)>1:\n",
    "        i=0\n",
    "        while i<len(seq):\n",
    "            y=func(seq[i])\n",
    "            if y==True:\n",
    "                print(seq[i])\n",
    "            i+=1\n",
    "def greater(x):\n",
    "    if x>=18:\n",
    "        return True\n",
    "    else:\n",
    "        return False\n",
    "lst=[15,16,17,18,19,20]\n",
    "filtered(greater,lst)"
   ]
  },
  {
   "cell_type": "markdown",
   "metadata": {},
   "source": [
    "# Write your own implementation of zip()"
   ]
  },
  {
   "cell_type": "code",
   "execution_count": 11,
   "metadata": {},
   "outputs": [
    {
     "data": {
      "text/plain": [
       "[('Vandit', 'Jain'), ('Rahul', 'Singh'), ('Deyanshu', 'Shukla')]"
      ]
     },
     "execution_count": 11,
     "metadata": {},
     "output_type": "execute_result"
    }
   ],
   "source": [
    "def zipper(lst1,lst2):\n",
    "    Q=[]\n",
    "    i=0\n",
    "    a,b=len(lst1),len(lst2)\n",
    "    if a<=b:\n",
    "        for i in range(a):\n",
    "            Q.append((lst1[i],lst2[i]))\n",
    "    else:\n",
    "        for i in range(b):\n",
    "            Q.append((lst1[i],lst2[i]))\n",
    "    return Q\n",
    "A=[\"Vandit\",\"Rahul\",\"Deyanshu\"]\n",
    "B=[\"Jain\",\"Singh\",\"Shukla\"]\n",
    "zipper(A,B)\n",
    "        "
   ]
  },
  {
   "cell_type": "markdown",
   "metadata": {},
   "source": [
    "# Write your own implementation of enumerate()"
   ]
  },
  {
   "cell_type": "code",
   "execution_count": 21,
   "metadata": {},
   "outputs": [
    {
     "data": {
      "text/plain": [
       "[(0, 'Bennett_University'), (1, 'Greater_Noida')]"
      ]
     },
     "execution_count": 21,
     "metadata": {},
     "output_type": "execute_result"
    }
   ],
   "source": [
    "def enumerater(list1):\n",
    "    list2=[]\n",
    "    i=0\n",
    "    for i in range(len(list1)):\n",
    "        list2.append((i,list1[i]))\n",
    "    return list2\n",
    "enu=[\"Bennett_University\",\"Greater_Noida\"]\n",
    "enumerater(enu)"
   ]
  },
  {
   "cell_type": "markdown",
   "metadata": {},
   "source": [
    "# Write your own implementation of range()"
   ]
  },
  {
   "cell_type": "code",
   "execution_count": 25,
   "metadata": {},
   "outputs": [
    {
     "name": "stdout",
     "output_type": "stream",
     "text": [
      "0  1  2  3  4  5  6  "
     ]
    }
   ],
   "source": [
    "def ranger(x):\n",
    "    range_list=[]\n",
    "    i=0\n",
    "    while(i<x):\n",
    "        range_list.append(i)\n",
    "        i+=1\n",
    "    return range_list\n",
    "for i in ranger(7):\n",
    "    print(i,end=\"  \")"
   ]
  },
  {
   "cell_type": "markdown",
   "metadata": {},
   "source": [
    "# Write a generator that gives first n Fibonacci number."
   ]
  },
  {
   "cell_type": "code",
   "execution_count": 4,
   "metadata": {},
   "outputs": [
    {
     "name": "stdout",
     "output_type": "stream",
     "text": [
      "0 1 1 2 3 5 8 13 21 34 55 89 144 233 377 610 987 1597 2584 4181 "
     ]
    }
   ],
   "source": [
    "def fibonacci(n):\n",
    "    a,b=0,1\n",
    "    c=0\n",
    "    while(c<n):\n",
    "        yield a\n",
    "        a,b=b,a+b\n",
    "        c+=1\n",
    "t=fibonacci(20)\n",
    "for i in t:\n",
    "    print(i,end=\" \")"
   ]
  },
  {
   "cell_type": "markdown",
   "metadata": {},
   "source": [
    "# Implement sets using dictionaries. "
   ]
  },
  {
   "cell_type": "code",
   "execution_count": 12,
   "metadata": {},
   "outputs": [
    {
     "data": {
      "text/plain": [
       "{2, 3, 4, 5, 6, 7, 8, 9}"
      ]
     },
     "execution_count": 12,
     "metadata": {},
     "output_type": "execute_result"
    }
   ],
   "source": [
    "def function(lst,op):\n",
    "    \n",
    "    dictionary = {\n",
    "        'set' : set(lst)\n",
    "    }\n",
    "    return dictionary[op]\n",
    "l=[2,4,2,6,3,7,2,9,5,2,6,4,7,8]\n",
    "function(l,'set')"
   ]
  },
  {
   "cell_type": "markdown",
   "metadata": {},
   "source": [
    "# Write a decorator to print the time taken by a function"
   ]
  },
  {
   "cell_type": "code",
   "execution_count": 33,
   "metadata": {},
   "outputs": [
    {
     "name": "stdout",
     "output_type": "stream",
     "text": [
      "Enter your name:Rahul\n",
      "Time taken by function: 2.0344674587249756\n",
      "Hello Rahul ! My name is Vandit\n",
      "Welcome to Bennet University\n"
     ]
    }
   ],
   "source": [
    "import time\n",
    "def function(func):\n",
    "    start=time.time()\n",
    "    s=input(\"Enter your name:\")\n",
    "    def cal():\n",
    "        print('{}'.format(func.__name__),s,\"! My name is Vandit\")\n",
    "        func()\n",
    "    end=time.time()\n",
    "    print(\"Time taken by function:\",end-start)\n",
    "    return cal\n",
    "\n",
    "@function\n",
    "def Hello():\n",
    "    print('Welcome to Bennet University')\n",
    "\n",
    "Hello()"
   ]
  },
  {
   "cell_type": "code",
   "execution_count": null,
   "metadata": {},
   "outputs": [],
   "source": []
  }
 ],
 "metadata": {
  "kernelspec": {
   "display_name": "Python 3",
   "language": "python",
   "name": "python3"
  },
  "language_info": {
   "codemirror_mode": {
    "name": "ipython",
    "version": 3
   },
   "file_extension": ".py",
   "mimetype": "text/x-python",
   "name": "python",
   "nbconvert_exporter": "python",
   "pygments_lexer": "ipython3",
   "version": "3.7.3"
  }
 },
 "nbformat": 4,
 "nbformat_minor": 2
}
